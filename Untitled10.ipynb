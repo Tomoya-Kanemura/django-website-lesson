{
  "nbformat": 4,
  "nbformat_minor": 0,
  "metadata": {
    "colab": {
      "name": "Untitled10.ipynb",
      "provenance": [],
      "authorship_tag": "ABX9TyMwAMqdKG8Yt45SlGi6vULa",
      "include_colab_link": true
    },
    "kernelspec": {
      "name": "python3",
      "display_name": "Python 3"
    }
  },
  "cells": [
    {
      "cell_type": "markdown",
      "metadata": {
        "id": "view-in-github",
        "colab_type": "text"
      },
      "source": [
        "<a href=\"https://colab.research.google.com/github/Tomoya-Kanemura/django-website-lesson/blob/master/Untitled10.ipynb\" target=\"_parent\"><img src=\"https://colab.research.google.com/assets/colab-badge.svg\" alt=\"Open In Colab\"/></a>"
      ]
    },
    {
      "cell_type": "code",
      "metadata": {
        "id": "P0PS2Fu1vj6C"
      },
      "source": [
        "import requests\r\n",
        "from bs4 import BeautifulSoup"
      ],
      "execution_count": 47,
      "outputs": []
    },
    {
      "cell_type": "code",
      "metadata": {
        "id": "U9CoNGXqv2Ip"
      },
      "source": [
        "url = \"https://b.hatena.ne.jp/\""
      ],
      "execution_count": 48,
      "outputs": []
    },
    {
      "cell_type": "code",
      "metadata": {
        "id": "6tUTFKYkwCbC"
      },
      "source": [
        "res = requests.get(url)"
      ],
      "execution_count": 49,
      "outputs": []
    },
    {
      "cell_type": "code",
      "metadata": {
        "id": "jsdJqqnmwLMT"
      },
      "source": [
        "soup = BeautifulSoup(res.content,\"html.parser\")"
      ],
      "execution_count": 50,
      "outputs": []
    },
    {
      "cell_type": "code",
      "metadata": {
        "id": "73hC_R6Twao7"
      },
      "source": [
        "top_entry = soup.find(\"section\", attrs={\"class\": \"entrylist-unit\"})"
      ],
      "execution_count": 51,
      "outputs": []
    },
    {
      "cell_type": "code",
      "metadata": {
        "id": "sMqyDseJwufi"
      },
      "source": [
        "entries = top_entry.find_all(\"div\", attrs={\"class\": \"entrylist-contents\"})"
      ],
      "execution_count": 52,
      "outputs": []
    },
    {
      "cell_type": "code",
      "metadata": {
        "id": "msI0FaEixFCL",
        "colab": {
          "base_uri": "https://localhost:8080/"
        },
        "outputId": "1e8f6cad-fc60-4cc9-a7c5-62fbd870f4c8"
      },
      "source": [
        "for entry in entries:\r\n",
        "  title_tag = entry.find(\"h3\", attrs={\"class\": \"entrylist-contents-title\"})\r\n",
        "  title = title_tag.find(\"a\").get(\"title\")\r\n",
        "  users_tag = entry.find(\"span\", attrs={\"class\": \"entrylist-contents-users\"})\r\n",
        "  users = users_tag.get_text().strip()\r\n",
        "  print(title)\r\n",
        "  print(users)"
      ],
      "execution_count": 67,
      "outputs": [
        {
          "output_type": "stream",
          "text": [
            "線形代数をアニメーションで幾何学的に簡単に理解できる36記事まとめ | HEADBOOST\n",
            "522 users\n",
            "森喜朗会長が辞意 12日表明へ 女性蔑視発言で引責 - 毎日新聞\n",
            "555 users\n",
            "川淵三郎氏、就任前向き　旧知の森氏に涙流し「気の毒」 - 東京オリンピック：朝日新聞デジタル\n",
            "352 users\n",
            "「遺伝的アルゴリズムで最高にエッチな画像を作ろう！」がGoogleに怒られた話｜群青ちきん｜note\n",
            "221 users\n",
            "有症状者は野良検査しないで…！自費PCR検査で陽性通知が出たにも関わらず自己判断で動いた結果、カルテにあり得ない会食履歴を書くハメになった事例のお話 - Togetter\n",
            "522 users\n",
            "友達にクラシック音楽を教えた時を思い出して書いてみる\n",
            "381 users\n",
            "森氏後任「再び80代の男性なら…」　米専門家が疑問視 - 東京オリンピック：朝日新聞デジタル\n",
            "242 users\n",
            "五輪放映権を持つ米NBCが森会長の辞任を要求する意見記事「彼は去らねばならない」（THE PAGE） - Yahoo!ニュース\n",
            "384 users\n",
            "「ひとりを笑うな。」社民党　新たなキャッチコピー：朝日新聞デジタル\n",
            "354 users\n"
          ],
          "name": "stdout"
        }
      ]
    },
    {
      "cell_type": "code",
      "metadata": {
        "colab": {
          "base_uri": "https://localhost:8080/"
        },
        "id": "HOXGvYijRUqs",
        "outputId": "b1037f04-33c4-4388-bee7-72fccf57d021"
      },
      "source": [
        ""
      ],
      "execution_count": 55,
      "outputs": [
        {
          "output_type": "stream",
          "text": [
            "「ひとりを笑うな。」社民党　新たなキャッチコピー：朝日新聞デジタル\n",
            "354 users\n"
          ],
          "name": "stdout"
        }
      ]
    },
    {
      "cell_type": "code",
      "metadata": {
        "id": "e1NQKlr_IzHy"
      },
      "source": [
        "\r\n",
        "\r\n"
      ],
      "execution_count": null,
      "outputs": []
    }
  ]
}